{
 "cells": [
  {
   "cell_type": "code",
   "execution_count": 4,
   "metadata": {},
   "outputs": [
    {
     "name": "stdout",
     "output_type": "stream",
     "text": [
      "GPU not available, CPU used\n"
     ]
    }
   ],
   "source": [
    "import numpy as np\n",
    "import torch\n",
    "import torch.nn as nn\n",
    "import torch.nn.functional as F\n",
    "import torch.optim as optim\n",
    "import data_rnn as dat\n",
    "\n",
    "(x_train, y_train), (x_val, y_val), (i2w, w2i), numcls = dat.load_imdb(final=False)\n",
    "\n",
    "is_cuda = torch.cuda.is_available()\n",
    "if is_cuda:\n",
    "    device = torch.device(\"cuda\")\n",
    "    print(\"GPU is available\")\n",
    "else:\n",
    "    device = torch.device(\"cpu\")\n",
    "    print(\"GPU not available, CPU used\")"
   ]
  },
  {
   "cell_type": "code",
   "execution_count": 5,
   "metadata": {},
   "outputs": [],
   "source": [
    "batch_size = 100\n",
    "\n",
    "batched_x = []\n",
    "batched_y = []\n",
    "for i in range(0, len(x_train), batch_size):\n",
    "    batch_x = x_train[i:i+batch_size]\n",
    "    batch_y = y_train[i:i+batch_size]\n",
    "    max_len = max([len(x) for x in batch_x])\n",
    "    batch_x = [ x + [0] * (max_len - len(x)) for x in batch_x] # padding\n",
    "    \n",
    "    batched_x.append(torch.tensor(batch_x,dtype=torch.long))\n",
    "    batched_y.append(torch.tensor(batch_y,dtype=torch.long))\n",
    "\n",
    "\n",
    "batched_x_val = []\n",
    "batched_y_val = []\n",
    "for i in range(0, len(x_val), batch_size):\n",
    "    batch_x = x_val[i:i+batch_size]\n",
    "    batch_y = y_val[i:i+batch_size]\n",
    "    max_len = max([len(x) for x in batch_x])\n",
    "    batch_x = [ x + [0] * (max_len - len(x)) for x in batch_x] # padding\n",
    "    \n",
    "    batched_x_val.append(torch.tensor(batch_x,dtype=torch.long))\n",
    "    batched_y_val.append(torch.tensor(batch_y,dtype=torch.long))"
   ]
  },
  {
   "cell_type": "markdown",
   "metadata": {},
   "source": [
    "PART 2"
   ]
  },
  {
   "cell_type": "code",
   "execution_count": 6,
   "metadata": {},
   "outputs": [],
   "source": [
    "dictionary_size = len(i2w)\n",
    "embedding_size = 300\n",
    "hidden_size = 300\n",
    "epochs = 10\n",
    "learning_rate = 0.001\n",
    "momentum = 0.9"
   ]
  },
  {
   "cell_type": "code",
   "execution_count": 7,
   "metadata": {},
   "outputs": [],
   "source": [
    "class Net(nn.Module):\n",
    "    def __init__(self):\n",
    "        super().__init__()\n",
    "        self.embedding = nn.Embedding(dictionary_size, embedding_size, padding_idx=0)\n",
    "        self.fc1 = nn.Linear(embedding_size, hidden_size)\n",
    "        self.fc2 = nn.Linear(hidden_size, 2)\n",
    "        \n",
    "    def forward(self, x):\n",
    "        x = self.embedding(x)\n",
    "        x = F.relu(self.fc1(x))\n",
    "        x = torch.max(x,1).values\n",
    "        x = self.fc2(x)\n",
    "        return x"
   ]
  },
  {
   "cell_type": "code",
   "execution_count": 8,
   "metadata": {},
   "outputs": [],
   "source": [
    "import time \n",
    "\n",
    "def epoch_time(start_time, end_time):\n",
    "    elapsed_time = end_time - start_time\n",
    "    elapsed_mins = int(elapsed_time / 60)\n",
    "    elapsed_secs = int(elapsed_time - (elapsed_mins * 60))\n",
    "    return elapsed_mins, elapsed_secs"
   ]
  },
  {
   "cell_type": "code",
   "execution_count": 9,
   "metadata": {},
   "outputs": [],
   "source": [
    "def train(net):\n",
    "    criterion = nn.CrossEntropyLoss()\n",
    "    #optimizer = optim.SGD(net.parameters(), lr=learning_rate, momentum=momentum)\n",
    "    optimizer = optim.Adam(net.parameters(), lr=learning_rate)\n",
    "    running_loss = []\n",
    "    train_acc_per_epoch = []\n",
    "    val_acc_per_epoch = []\n",
    "\n",
    "\n",
    "    for epoch in range(epochs):\n",
    "        train_losses = []\n",
    "        start_time = time.time()\n",
    "        correct = 0\n",
    "        total = 0\n",
    "        for inputs, labels in zip(batched_x, batched_y):\n",
    "\n",
    "            # zero the parameter gradients\n",
    "            optimizer.zero_grad()\n",
    "\n",
    "            # forward + backward + optimize\n",
    "            outputs = net(inputs)\n",
    "            loss = criterion(outputs, labels)\n",
    "            loss.backward()\n",
    "            train_losses.append(loss.item())\n",
    "            optimizer.step()\n",
    "\n",
    "            _, predicted = torch.max(outputs.data, 1)\n",
    "            #print(predicted, labels)\n",
    "            total += labels.size(0)\n",
    "            correct += (predicted == labels).sum().item()\n",
    "\n",
    "            \n",
    "            running_loss.append(loss.item())\n",
    "        train_acc_per_epoch.append(correct / total)\n",
    "        train_acc = correct / total\n",
    "        correct = 0\n",
    "        total = 0\n",
    "    # since we're not training, we don't need to calculate the gradients for our outputs    \n",
    "        with torch.no_grad():\n",
    "            for inputs, labels in zip(batched_x_val, batched_y_val):\n",
    "                # calculate outputs by running images through the network \n",
    "                outputs = net(inputs)\n",
    "                # the class with the highest energy is what we choose as prediction\n",
    "                _, predicted = torch.max(outputs.data, 1)\n",
    "                #print(predicted, labels)\n",
    "                total += labels.size(0)\n",
    "                correct += (predicted == labels).sum().item()\n",
    "\n",
    "        \n",
    "        val_acc_per_epoch.append(correct / total)\n",
    "        vall_acc = correct / total\n",
    "        end_time = time.time()\n",
    "        epoch_mins, epoch_secs = epoch_time(start_time, end_time)\n",
    "        epoch_train_loss = np.mean(train_losses)\n",
    "        print(f'Epoch: {epoch+1:02} | Epoch Time: {epoch_mins}m {epoch_secs}s')\n",
    "        print(f'train_loss : {epoch_train_loss}')\n",
    "        print(f'train_accuracy : {train_acc*100} val_accuracy : {vall_acc*100}')\n",
    "        print(25*'==')\n",
    "\n",
    "    return running_loss, train_acc_per_epoch, val_acc_per_epoch"
   ]
  },
  {
   "cell_type": "code",
   "execution_count": 10,
   "metadata": {},
   "outputs": [
    {
     "name": "stdout",
     "output_type": "stream",
     "text": [
      "Net(\n",
      "  (embedding): Embedding(99430, 300, padding_idx=0)\n",
      "  (fc1): Linear(in_features=300, out_features=300, bias=True)\n",
      "  (fc2): Linear(in_features=300, out_features=2, bias=True)\n",
      ")\n",
      "Epoch: 01 | Epoch Time: 3m 4s\n",
      "train_loss : 0.41214092396199703\n",
      "train_accuracy : 80.605 val_accuracy : 86.26\n",
      "==================================================\n",
      "Epoch: 02 | Epoch Time: 2m 17s\n",
      "train_loss : 0.26452912800014017\n",
      "train_accuracy : 88.94 val_accuracy : 87.58\n",
      "==================================================\n",
      "Epoch: 03 | Epoch Time: 2m 33s\n",
      "train_loss : 0.1902086364850402\n",
      "train_accuracy : 92.93 val_accuracy : 86.72\n",
      "==================================================\n",
      "Epoch: 04 | Epoch Time: 2m 5s\n",
      "train_loss : 0.13244532838463782\n",
      "train_accuracy : 95.86 val_accuracy : 83.89999999999999\n",
      "==================================================\n",
      "Epoch: 05 | Epoch Time: 2m 42s\n",
      "train_loss : 0.09249983996152877\n",
      "train_accuracy : 97.28999999999999 val_accuracy : 74.26\n",
      "==================================================\n",
      "Epoch: 06 | Epoch Time: 2m 45s\n",
      "train_loss : 0.08394046227447688\n",
      "train_accuracy : 97.26 val_accuracy : 88.12\n",
      "==================================================\n",
      "Epoch: 07 | Epoch Time: 2m 6s\n",
      "train_loss : 0.06623814628925175\n",
      "train_accuracy : 97.68 val_accuracy : 83.12\n",
      "==================================================\n",
      "Epoch: 08 | Epoch Time: 2m 3s\n",
      "train_loss : 0.05406133068725467\n",
      "train_accuracy : 98.09 val_accuracy : 73.08\n",
      "==================================================\n",
      "Epoch: 09 | Epoch Time: 1m 59s\n",
      "train_loss : 0.02934025247755926\n",
      "train_accuracy : 99.125 val_accuracy : 88.18\n",
      "==================================================\n",
      "Epoch: 10 | Epoch Time: 2m 20s\n",
      "train_loss : 0.009437600555538666\n",
      "train_accuracy : 99.835 val_accuracy : 86.52\n",
      "==================================================\n"
     ]
    }
   ],
   "source": [
    "net = Net()\n",
    "#moving to gpu\n",
    "net.to(device)\n",
    "print(net)\n",
    "running_loss_MLP, train_acc_per_epoch_MLP, val_acc_per_epoch_MLP = train(net)"
   ]
  },
  {
   "cell_type": "code",
   "execution_count": 11,
   "metadata": {},
   "outputs": [
    {
     "data": {
      "image/png": "[encoded data removed]",
      "text/plain": [
       "<Figure size 432x288 with 1 Axes>"
      ]
     },
     "metadata": {},
     "output_type": "display_data"
    }
   ],
   "source": [
    "import matplotlib.pyplot as plt\n",
    "plt.style.use(\"seaborn-dark\")\n",
    "for param in ['figure.facecolor', 'axes.facecolor', 'savefig.facecolor']:\n",
    "    plt.rcParams[param] = '#212946'  # bluish dark grey\n",
    "for param in ['text.color', 'axes.labelcolor', 'xtick.color', 'ytick.color']:\n",
    "    plt.rcParams[param] = '0.9'  # very light grey\n",
    "epochs_range = np.arange(1,epochs+1)\n",
    "plt.plot(epochs_range, train_acc_per_epoch_MLP, 'g', label='Train Accuracy MLP')\n",
    "#plt.plot(epochs_range, relu_acc, 'b', label='ReLU Accuracy')\n",
    "plt.grid(color='#2A3459')  # bluish dark grey, but slightly lighter than background\n",
    "plt.title('Accuracies of MLP')\n",
    "plt.xlabel('Epochs')\n",
    "plt.ylabel('Accuracy')\n",
    "plt.legend()\n",
    "plt.show()\n"
   ]
  }
 ],
 "metadata": {
  "interpreter": {
   "hash": "aee8b7b246df8f9039afb4144a1f6fd8d2ca17a180786b69acc140d282b71a49"
  },
  "kernelspec": {
   "display_name": "Python 3.7.9 64-bit",
   "language": "python",
   "name": "python3"
  },
  "language_info": {
   "codemirror_mode": {
    "name": "ipython",
    "version": 3
   },
   "file_extension": ".py",
   "mimetype": "text/x-python",
   "name": "python",
   "nbconvert_exporter": "python",
   "pygments_lexer": "ipython3",
   "version": "3.7.9"
  },
  "orig_nbformat": 4
 },
 "nbformat": 4,
 "nbformat_minor": 2
}
